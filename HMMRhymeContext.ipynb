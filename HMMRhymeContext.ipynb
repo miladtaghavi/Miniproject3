{
 "cells": [
  {
   "cell_type": "markdown",
   "metadata": {},
   "source": [
    "# Imports"
   ]
  },
  {
   "cell_type": "code",
   "execution_count": 2,
   "metadata": {},
   "outputs": [],
   "source": [
    "import HMM\n",
    "import itertools\n",
    "import random\n",
    "import numpy as np\n",
    "import matplotlib.pyplot as plt\n",
    "from collections import defaultdict"
   ]
  },
  {
   "cell_type": "markdown",
   "metadata": {},
   "source": [
    "# Data Imports"
   ]
  },
  {
   "cell_type": "code",
   "execution_count": 3,
   "metadata": {
    "scrolled": false
   },
   "outputs": [],
   "source": [
    "with open(\"./data/shakespeare.txt\", \"r\") as f:\n",
    "    data = f.read()\n",
    "    \n",
    "# Split by poems\n",
    "poems = data.split(\"\\n\\n\\n\")\n",
    "# Split poem by line, remove 1st line\n",
    "poems = [poem.split(\"\\n\")[1:] for poem in poems] \n",
    "# Remove the 2 anomalous poems\n",
    "del poems[98]\n",
    "del poems[124]\n",
    "\n",
    "# Remove trailing/leading spaces for certain lines (last 2 lines)\n",
    "poems = [[line.strip() for line in poem] for poem in poems] \n",
    "# Split each line into a list of words\n",
    "poems = [[line.split(\" \") for line in poem] for poem in poems] \n",
    "# Strip punctuation : Optional\n",
    "poems_by_lines = [[[word.strip(\",.:;?!()\").lower() for word in line] for line in poem ] for poem in poems] \n",
    "# Combine all the lines in a single poem so that each pome is just a list of words\n",
    "poems_by_words = [list(itertools.chain.from_iterable(poem)) for poem in poems_by_lines] "
   ]
  },
  {
   "cell_type": "markdown",
   "metadata": {},
   "source": [
    "# Basic Processing and Data Extraction"
   ]
  },
  {
   "cell_type": "code",
   "execution_count": 4,
   "metadata": {},
   "outputs": [],
   "source": [
    "# Create the dictionary of words. We associate each word with a unique index\n",
    "# and the inverse dictionary associates the index with the word\n",
    "\n",
    "with open(\"./data/Syllable_dictionary.txt\", \"r\") as f:\n",
    "    data = f.readlines()\n",
    "    \n",
    "lines = [word.strip() for word in data]\n",
    "\n",
    "words_list = []\n",
    "syllables_list = []\n",
    "end_syllables_list = []\n",
    "\n",
    "for line in lines:\n",
    "    word_syllables_list = []\n",
    "    word_end_syllables_list = []\n",
    "    \n",
    "    # Split into the word itself and everything else\n",
    "    word = line.split(\" \")[0]\n",
    "    syllables = line.split(\" \")[1:]\n",
    "    # Iterate over everything else\n",
    "    for syllable in syllables:\n",
    "        # Check that it does not represent an end syllable\n",
    "        if syllable[0] != \"E\":\n",
    "            # Add it to the list syllable count for the current word\n",
    "            word_syllables_list.append(int(syllable))\n",
    "        else:\n",
    "            # Slice off the \"E\" and directly append to the curent word's end_syllables_list\n",
    "            word_end_syllables_list.append(int(syllable[1:]))\n",
    "            \n",
    "    words_list.append(word)\n",
    "    syllables_list.append(tuple(word_syllables_list))\n",
    "    end_syllables_list.append(tuple(word_end_syllables_list))\n",
    "    \n",
    "words_dict = dict(zip(words_list, range(len(words_list))))\n",
    "inverse_words_dict = dict(zip(range(len(words_list)), words_list))\n",
    "syllables_dict = dict(zip(words_list, syllables_list))\n",
    "end_syllables_dict = dict(zip(words_list, end_syllables_list))\n",
    "\n",
    "# Convert each word into an index by searching in the dictionary\n",
    "# We need the function because sometimes there are words that have ' at the start (as part of the word itself)\n",
    "# but sometimes it's just used as a normal quotation mark. So we need to split into 2 cases.\n",
    "def word_idx(word):\n",
    "    try:\n",
    "        return words_dict[word.lower()]\n",
    "    except KeyError:\n",
    "        return words_dict[word.lower().strip(\",.:;?!()'\")]"
   ]
  },
  {
   "cell_type": "code",
   "execution_count": 5,
   "metadata": {},
   "outputs": [],
   "source": [
    "# Acquire the possible chains of last words as well as rhyming pairs\n",
    "\n",
    "last_words = set()\n",
    "last_word_chains = []\n",
    "rhyme_pairs = defaultdict(set)\n",
    "\n",
    "for poem in poems_by_lines:\n",
    "    # String the last words of the key lines into a list\n",
    "    last_word_chains.append([poem[i][-1] for i in (0, 1, 4, 5, 8, 9, 12)])\n",
    "    \n",
    "    # Register the appropriate pairs of words as rhyming\n",
    "    for i in (0, 1, 4, 5, 8, 9):\n",
    "        rhyme_pairs[poem[i][-1]].add(poem[i+2][-1])\n",
    "        rhyme_pairs[poem[i+2][-1]].add(poem[i][-1])\n",
    "    # Register the last 2 lines' last words\n",
    "    rhyme_pairs[poem[12][-1]].add(poem[13][-1])\n",
    "    rhyme_pairs[poem[13][-1]].add(poem[12][-1])\n",
    "    \n",
    "    # Simply collect all the possible last words \n",
    "    for idx, line in enumerate(poem):\n",
    "        last_words.add(line[-1])\n",
    "        \n",
    "# Convert the list of list of words for each poem's key lines' last words into indices for learning\n",
    "last_word_chains_idx = [[word_idx(word) for word in line] for line in last_word_chains]\n",
    "\n",
    "# TODO: Merge the possible rhymes together"
   ]
  },
  {
   "cell_type": "code",
   "execution_count": 6,
   "metadata": {},
   "outputs": [],
   "source": [
    "# Combines all poems together, yielding a list of all lines. We then reverse them and convert to indices.\n",
    "all_lines = list(itertools.chain.from_iterable(poems_by_lines)) \n",
    "all_lines_reversed = [line[::-1] for line in all_lines]\n",
    "all_lines_reversed_idx = [[word_idx(word) for word in line] for line in all_lines_reversed]"
   ]
  },
  {
   "cell_type": "markdown",
   "metadata": {},
   "source": [
    "# HMM Training"
   ]
  },
  {
   "cell_type": "code",
   "execution_count": 209,
   "metadata": {
    "scrolled": true
   },
   "outputs": [
    {
     "name": "stdout",
     "output_type": "stream",
     "text": [
      "Iteration: 10\n",
      "Iteration: 20\n",
      "Iteration: 30\n",
      "Iteration: 40\n",
      "Iteration: 50\n",
      "Iteration: 60\n",
      "Iteration: 70\n",
      "Iteration: 80\n",
      "Iteration: 90\n",
      "Iteration: 100\n",
      "Iteration: 110\n",
      "Iteration: 120\n",
      "Iteration: 130\n",
      "Iteration: 140\n",
      "Iteration: 150\n",
      "Iteration: 160\n",
      "Iteration: 170\n",
      "Iteration: 180\n",
      "Iteration: 190\n",
      "Iteration: 200\n",
      "Iteration: 210\n",
      "Iteration: 220\n",
      "Iteration: 230\n",
      "Iteration: 240\n",
      "Iteration: 250\n",
      "Iteration: 260\n",
      "Iteration: 270\n",
      "Iteration: 280\n",
      "Iteration: 290\n",
      "Iteration: 300\n",
      "Iteration: 310\n",
      "Iteration: 320\n",
      "Iteration: 330\n",
      "Iteration: 340\n",
      "Iteration: 350\n",
      "Iteration: 360\n",
      "Iteration: 370\n",
      "Iteration: 380\n",
      "Iteration: 390\n",
      "Iteration: 400\n",
      "Iteration: 410\n",
      "Iteration: 420\n",
      "Iteration: 430\n",
      "Iteration: 440\n",
      "Iteration: 450\n",
      "Iteration: 460\n",
      "Iteration: 470\n",
      "Iteration: 480\n",
      "Iteration: 490\n",
      "Iteration: 500\n"
     ]
    }
   ],
   "source": [
    "# Learn a HMM to generate the last words of each key line in a poem\n",
    "# TODO: vary number of states, iters.\n",
    "last_word_chain_HMM = HMM.unsupervised_HMM(last_word_chains_idx, n_states=4, n_words=len(words_list), N_iters=500)"
   ]
  },
  {
   "cell_type": "code",
   "execution_count": 210,
   "metadata": {},
   "outputs": [
    {
     "name": "stdout",
     "output_type": "stream",
     "text": [
      "Iteration: 10\n",
      "Iteration: 20\n",
      "Iteration: 30\n",
      "Iteration: 40\n",
      "Iteration: 50\n",
      "Iteration: 60\n",
      "Iteration: 70\n",
      "Iteration: 80\n",
      "Iteration: 90\n",
      "Iteration: 100\n",
      "Iteration: 110\n",
      "Iteration: 120\n",
      "Iteration: 130\n",
      "Iteration: 140\n",
      "Iteration: 150\n",
      "Iteration: 160\n",
      "Iteration: 170\n",
      "Iteration: 180\n",
      "Iteration: 190\n",
      "Iteration: 200\n"
     ]
    }
   ],
   "source": [
    "# Train a HMM to construct lines backwards\n",
    "reversed_line_HMM = HMM.unsupervised_HMM(all_lines_reversed_idx, n_states=4, n_words=len(words_list), N_iters=200)"
   ]
  },
  {
   "cell_type": "markdown",
   "metadata": {},
   "source": [
    "# Poem Generation"
   ]
  },
  {
   "cell_type": "code",
   "execution_count": 211,
   "metadata": {
    "scrolled": true
   },
   "outputs": [
    {
     "name": "stdout",
     "output_type": "stream",
     "text": [
      "light alone grief thee brow true friend\n",
      "bright anon relief posterity now anew fiend\n",
      "---\n",
      "light\n",
      "alone\n",
      "bright\n",
      "anon\n",
      "grief\n",
      "thee\n",
      "relief\n",
      "posterity\n",
      "brow\n",
      "true\n",
      "now\n",
      "anew\n",
      "friend\n",
      "fiend\n"
     ]
    }
   ],
   "source": [
    "# Generate the seeds using the last words HMM and then get the coupling rhymes. These will act as seeds for the \n",
    "# second HMM which generates the line backwards\n",
    "\n",
    "# Emit 7 words from this HMM that learned the last word chains\n",
    "# Take the 0th component because the 1st component shows the hidden state\n",
    "last_words_emission_idx = last_word_chain_HMM.generate_emission(7)[0]\n",
    "last_words_emission = [inverse_words_dict[idx] for idx in last_words_emission_idx]\n",
    "print(\" \".join(last_words_emission))\n",
    "\n",
    "# Use the rhyme dictionary to get the corresponding rhyme words\n",
    "rhymed_words_emission = [random.choice(list(rhyme_pairs[word])) for word in last_words_emission]\n",
    "rhymed_words_emission_idx = [words_dict[word] for word in rhymed_words_emission]\n",
    "print(\" \".join(rhymed_words_emission))\n",
    "\n",
    "\n",
    "# Join all them together in the appropriate alternating fashion\n",
    "last_words_seeds_idx = []\n",
    "for i in range(3):\n",
    "    last_words_seeds_idx.extend([last_words_emission_idx[2*i], last_words_emission_idx[2*i+1]])\n",
    "    last_words_seeds_idx.extend([rhymed_words_emission_idx[2*i], rhymed_words_emission_idx[2*i+1]])\n",
    "last_words_seeds_idx.extend([last_words_emission_idx[6], rhymed_words_emission_idx[6]])\n",
    "last_words_seeds = [inverse_words_dict[idx] for idx in last_words_seeds_idx]\n",
    "print(\"---\")\n",
    "print(\"\\n\".join(last_words_seeds))"
   ]
  },
  {
   "cell_type": "code",
   "execution_count": 212,
   "metadata": {},
   "outputs": [
    {
     "name": "stdout",
     "output_type": "stream",
     "text": [
      "Your what the high I what toil be as light,\n",
      "To take debt thy friend robs beauty alone,\n",
      "Arts I so and why thou when sin sick bright,\n",
      "Him honour ever I all knows anon,\n",
      "A lies to and thy poet's sightless grief,\n",
      "All her thou would speak fill sunset in thee,\n",
      "My the tickled though muse when love relief,\n",
      "Of with that gaze dove like posterity,\n",
      "Sweet O gives shames you it eye never brow,\n",
      "The name eye's on to the judgment store true,\n",
      "Content is the mutual junes expense now,\n",
      "Eye's love must on forged much win anew,\n",
      "Art rightly and put though wise to thee friend,\n",
      "Be for hairs them but shalt you and grows fiend.\n"
     ]
    }
   ],
   "source": [
    "# Actually make a sonnet now. Take the 14 seeds from before, construct the lines backwards, and check for syllable count.\n",
    "# If it cannot fit the right syllable count, we regenerate the line.\n",
    "\n",
    "sonnet = []\n",
    "# Iterate over each of the 14 seeds for each line\n",
    "for seed_idx in last_words_seeds_idx:\n",
    "    exactly_10_syllables = False\n",
    "    \n",
    "    while not exactly_10_syllables:\n",
    "        # Generate the line using the seed\n",
    "        line = list(reversed_line_HMM.generate_emission(10, seed=seed_idx)[0])\n",
    "        # Reverse the line\n",
    "        line = line[::-1]\n",
    "        # Add the seed at the back of the line and convert back to words\n",
    "        line.append(seed_idx)\n",
    "        line = [inverse_words_dict[word] for word in line]\n",
    "        \n",
    "        # Start from the back of the line and start adding syllables. Initially we have an empty set because we will initialise\n",
    "        # it when we read the last word. Use sets to prevent duplicates.\n",
    "        syllable_count = set([])\n",
    "        # Count backward from the last word in the line until 0\n",
    "        for i in range(len(line)-1, -1, -1):\n",
    "            \n",
    "            # Only for the last word, we also add possible end-of-line syllable counts\n",
    "            # It is empty so we initialise it by adding elements \n",
    "            if i == len(line)-1:\n",
    "                # First initialise all the normal syllables\n",
    "                syllable_count = set(syllables_dict[line[i]])\n",
    "                # Then add all the end syllables\n",
    "                syllable_count.update(end_syllables_dict[line[i]])\n",
    "\n",
    "            # For words that are not the last, we need to iterate over the new possible readings + previous possible counts\n",
    "            else:\n",
    "                # Since each word can have >1 possible syllables, we need to iterate over all past counts and\n",
    "                # all possible syllable counts of the new word. Use sets to prevent duplicates.\n",
    "                syllable_count = {count+syl for count in syllable_count for syl in syllables_dict[line[i]]}\n",
    "                # If at any point we hit 10 we are done. We chop off the line starting from when we reached 10.\n",
    "                if 10 in syllable_count:\n",
    "                    line = line[i:]\n",
    "                    exactly_10_syllables = True\n",
    "                    break\n",
    "    # Once we are out of that while loop, we have exactly 10 syllables        \n",
    "    sonnet.append(line)\n",
    "\n",
    "# Print the sonnet itself\n",
    "for idx, line in enumerate(sonnet):\n",
    "    # Upper case \"I\" and \"O\" and \"I'll\"\n",
    "    line = [word[0].upper()+word[1:] if word in (\"i\", \"o\", \"i'll\") else word for word in line]\n",
    "    # Upper case the 1st word of each line\n",
    "    line[0] = line[0][0].upper() + line[0][1:]\n",
    "    \n",
    "    # Add comma to each line except the last\n",
    "    if idx == len(sonnet)-1:\n",
    "        line[-1] += \".\"\n",
    "    else:\n",
    "        line[-1] += \",\"\n",
    "    print(\" \".join(line))"
   ]
  },
  {
   "cell_type": "markdown",
   "metadata": {},
   "source": [
    "# Preprocessing for parts of speech"
   ]
  },
  {
   "cell_type": "code",
   "execution_count": 213,
   "metadata": {},
   "outputs": [
    {
     "name": "stdout",
     "output_type": "stream",
     "text": [
      "[nltk_data] Downloading package punkt to /Users/zchen/nltk_data...\n",
      "[nltk_data]   Package punkt is already up-to-date!\n",
      "[nltk_data] Downloading package averaged_perceptron_tagger to\n",
      "[nltk_data]     /Users/zchen/nltk_data...\n",
      "[nltk_data]   Package averaged_perceptron_tagger is already up-to-\n",
      "[nltk_data]       date!\n"
     ]
    },
    {
     "data": {
      "text/plain": [
       "True"
      ]
     },
     "execution_count": 213,
     "metadata": {},
     "output_type": "execute_result"
    }
   ],
   "source": [
    "import nltk\n",
    "nltk.download('punkt')\n",
    "nltk.download('averaged_perceptron_tagger')"
   ]
  },
  {
   "cell_type": "code",
   "execution_count": 214,
   "metadata": {},
   "outputs": [],
   "source": [
    "# Function to convert reversed word lines to words in correct orientation\n",
    "def get_line(intwords,worddict):\n",
    "    out = [worddict[i] for i in intwords]\n",
    "    return out[::-1]\n",
    "\n",
    "# Get POS tag from word line in correct orientation\n",
    "def get_POS(line):\n",
    "    out = nltk.pos_tag(line)\n",
    "    return np.array([j for i,j in out]),np.array([i for i,j in out])\n",
    "\n",
    "# Get expected hidden state via viterbi given an emission sequence\n",
    "def getStates(model,x):\n",
    "    out = model.viterbi(x)\n",
    "    return np.array([int(i) for i in out])"
   ]
  },
  {
   "cell_type": "code",
   "execution_count": 215,
   "metadata": {},
   "outputs": [],
   "source": [
    "Nstate = []\n",
    "NPOS = []\n",
    "words = []\n",
    "\n",
    "for line_ridx in all_lines_reversed_idx:\n",
    "    state = getStates(reversed_line_HMM,line_ridx)\n",
    "    line = get_line(line_ridx,inverse_words_dict)\n",
    "    POS,word = get_POS(line)\n",
    "    # Record the state and POS tags\n",
    "    NPOS.append(POS)\n",
    "    Nstate.append(state)\n",
    "    words.append(word)\n",
    "\n",
    "NPOS = np.concatenate(NPOS)\n",
    "Nstate = np.concatenate(Nstate)\n",
    "words = np.concatenate(words)"
   ]
  },
  {
   "cell_type": "code",
   "execution_count": 216,
   "metadata": {},
   "outputs": [],
   "source": [
    "uniquePOS = np.unique(NPOS)\n",
    "uniqueState = np.unique(Nstate)\n",
    "out = np.zeros((len(uniquePOS),len(uniqueState)))\n",
    "# Count frequency of POS for each hidden state\n",
    "for j in uniqueState:\n",
    "    POS = NPOS[Nstate==j]\n",
    "    k = 0\n",
    "    for i in uniquePOS:\n",
    "        out[k,j]=len(POS[POS==i])\n",
    "        k=k+1"
   ]
  },
  {
   "cell_type": "code",
   "execution_count": 217,
   "metadata": {},
   "outputs": [
    {
     "name": "stdout",
     "output_type": "stream",
     "text": [
      "[[1.000e+00 1.000e+00 0.000e+00 1.000e+00]\n",
      " [1.310e+02 2.020e+02 2.060e+02 2.390e+02]\n",
      " [4.000e+00 2.500e+01 8.000e+00 3.100e+01]\n",
      " [2.000e+02 4.310e+02 1.660e+02 4.080e+02]\n",
      " [2.000e+00 6.000e+00 0.000e+00 9.000e+00]\n",
      " [0.000e+00 1.000e+00 1.000e+00 1.000e+00]\n",
      " [2.960e+02 6.970e+02 2.580e+02 7.280e+02]\n",
      " [2.540e+02 7.220e+02 1.410e+02 6.840e+02]\n",
      " [9.000e+00 2.900e+01 6.000e+00 3.500e+01]\n",
      " [1.700e+01 3.200e+01 8.000e+00 1.900e+01]\n",
      " [4.100e+01 1.420e+02 3.000e+01 1.020e+02]\n",
      " [4.350e+02 1.818e+03 2.180e+02 1.403e+03]\n",
      " [1.000e+00 0.000e+00 0.000e+00 0.000e+00]\n",
      " [1.130e+02 3.850e+02 5.600e+01 2.740e+02]\n",
      " [6.000e+00 1.800e+01 1.000e+00 7.000e+00]\n",
      " [1.000e+00 5.000e+00 0.000e+00 1.000e+00]\n",
      " [9.000e+01 2.500e+02 3.000e+01 2.420e+02]\n",
      " [9.200e+01 2.640e+02 7.700e+01 2.850e+02]\n",
      " [1.270e+02 3.760e+02 1.140e+02 3.430e+02]\n",
      " [1.200e+01 2.000e+01 3.000e+00 1.800e+01]\n",
      " [3.000e+00 9.000e+00 1.000e+00 1.200e+01]\n",
      " [8.000e+00 2.000e+01 3.000e+00 6.000e+00]\n",
      " [5.600e+01 1.360e+02 4.900e+01 1.630e+02]\n",
      " [1.280e+02 4.830e+02 4.900e+01 3.440e+02]\n",
      " [4.600e+01 1.650e+02 2.000e+01 1.470e+02]\n",
      " [4.800e+01 8.300e+01 4.600e+01 4.900e+01]\n",
      " [3.300e+01 1.650e+02 3.000e+01 1.140e+02]\n",
      " [8.000e+01 2.840e+02 2.100e+01 2.370e+02]\n",
      " [5.400e+01 1.580e+02 2.800e+01 1.600e+02]\n",
      " [1.700e+01 7.000e+01 2.400e+01 6.000e+01]\n",
      " [2.000e+01 4.600e+01 1.000e+01 3.400e+01]\n",
      " [3.000e+00 4.000e+00 4.000e+00 8.000e+00]\n",
      " [4.800e+01 6.600e+01 5.400e+01 4.600e+01]]\n",
      "IN\n"
     ]
    },
    {
     "data": {
      "image/png": "[encoded data removed]",
      "text/plain": [
       "<matplotlib.figure.Figure at 0x113e68048>"
      ]
     },
     "metadata": {},
     "output_type": "display_data"
    }
   ],
   "source": [
    "print(out)\n",
    "print(uniquePOS[6])\n",
    "plt.imshow(out)\n",
    "plt.xlabel('Hidden States')\n",
    "plt.ylabel(uniquePOS)\n",
    "plt.show()"
   ]
  },
  {
   "cell_type": "code",
   "execution_count": 228,
   "metadata": {},
   "outputs": [
    {
     "name": "stdout",
     "output_type": "stream",
     "text": [
      "[[ 135.  227.  214.  270.]\n",
      " [ 296.  697.  258.  728.]\n",
      " [ 280.  783.  155.  738.]\n",
      " [ 549. 2203.  274. 1677.]\n",
      " [ 189.  537.  108.  535.]\n",
      " [ 150.  425.  121.  379.]\n",
      " [  56.  136.   49.  163.]\n",
      " [ 389. 1338.  194. 1051.]\n",
      " [ 290.  623.  258.  565.]\n",
      " [  41.  143.   31.  103.]\n",
      " [   0.    0.    0.    0.]]\n",
      "[['CC', 'CD'], ['IN'], ['JJ', 'JJR', 'JJS'], ['NN', 'NNPS', 'NNS'], ['PDT', 'POS', 'PRP', 'PRP$'], ['RB', 'RBR', 'RBS', 'RP'], ['TO'], ['VB', 'VBD', 'VBG', 'VBN', 'VBP', 'VBZ'], ['WDT', 'WP', 'WP$', 'WRB', 'DT', 'EX'], ['FW', 'MD']]\n"
     ]
    },
    {
     "data": {
      "image/png": "[encoded data removed]",
      "text/plain": [
       "<matplotlib.figure.Figure at 0x1193f8978>"
      ]
     },
     "metadata": {},
     "output_type": "display_data"
    }
   ],
   "source": [
    "valid9POS = [['CC','CD'],\n",
    "         ['IN'],\n",
    "         ['JJ','JJR','JJS'],\n",
    "         ['NN','NNPS','NNS'],\n",
    "         ['PDT','POS','PRP','PRP$'],\n",
    "         ['RB','RBR','RBS','RP'],\n",
    "         ['TO'],\n",
    "         ['VB','VBD','VBG','VBN','VBP','VBZ'],\n",
    "         ['WDT','WP','WP$','WRB','DT','EX'],\n",
    "         ['FW','MD']]\n",
    "\n",
    "def get9POS(out,valid9POS,uniquePOS,uniqueStates):\n",
    "    out9POS = np.zeros((11,len(uniqueStates)))\n",
    "    for i in range(len(valid9POS)):\n",
    "        POSn=valid9POS[i]\n",
    "        a = np.zeros(4)\n",
    "        for j in POSn:\n",
    "            idx = np.argmax(uniquePOS==j)\n",
    "            a=a+out[idx]\n",
    "        out9POS[i]=a\n",
    "    return out9POS\n",
    "out2 = get9POS(out,valid9POS,uniquePOS,uniqueState)\n",
    "print(out2)\n",
    "print(valid9POS)\n",
    "plt.imshow(out2)\n",
    "plt.xlabel('Hidden States')\n",
    "plt.ylabel('Parts of Speech')\n",
    "plt.show()"
   ]
  },
  {
   "cell_type": "code",
   "execution_count": 233,
   "metadata": {},
   "outputs": [
    {
     "data": {
      "image/png": "[encoded data removed]",
      "text/plain": [
       "<matplotlib.figure.Figure at 0x11bff64a8>"
      ]
     },
     "metadata": {},
     "output_type": "display_data"
    }
   ],
   "source": [
    "out3 = out2\n",
    "for i in range(out.shape[1]):\n",
    "    out3[:,i] = out2[:,i]/np.sum(out2[:,i])\n",
    "plt.imshow(out3)\n",
    "plt.xlabel('Hidden States')\n",
    "plt.ylabel('Parts of Speech')\n",
    "plt.show()"
   ]
  },
  {
   "cell_type": "code",
   "execution_count": null,
   "metadata": {},
   "outputs": [],
   "source": [
    "def obs_map_reverser(obs_map):\n",
    "    obs_map_r = {}\n",
    "\n",
    "    for key in obs_map:\n",
    "        obs_map_r[obs_map[key]] = key\n",
    "\n",
    "    return obs_map_r\n",
    "\n",
    "def states_to_wordclouds(hmm, obs_map, max_words=10, show=True):\n",
    "    # Initialize.\n",
    "    M = 100000\n",
    "    n_states = len(hmm.A)\n",
    "    obs_map_r = obs_map_reverser(obs_map)\n",
    "    wordclouds = []\n",
    "\n",
    "    # Generate a large emission.\n",
    "    emission, states = hmm.generate_emission(M)\n",
    "\n",
    "    # For each state, get a list of observations that have been emitted\n",
    "    # from that state.\n",
    "    obs_count = []\n",
    "    for i in range(n_states):\n",
    "        obs_lst = np.array(emission)[np.where(np.array(states) == i)[0]]\n",
    "        obs_count.append(obs_lst)\n",
    "\n",
    "    # For each state, convert it into a wordcloud.\n",
    "    for i in range(n_states):\n",
    "        obs_lst = obs_count[i]\n",
    "        sentence = [obs_map_r[j] for j in obs_lst]\n",
    "        sentence_str = ' '.join(sentence)\n",
    "\n",
    "        wordclouds.append(text_to_wordcloud(sentence_str, max_words=max_words, title='State %d' % i, show=show))\n",
    "\n",
    "    return wordclouds\n",
    "\n",
    "\n",
    "\n",
    "wordclouds = states_to_wordclouds(reversed_line_HMM, words_dict)"
   ]
  },
  {
   "cell_type": "code",
   "execution_count": null,
   "metadata": {},
   "outputs": [],
   "source": []
  }
 ],
 "metadata": {
  "kernelspec": {
   "display_name": "Python 3",
   "language": "python",
   "name": "python3"
  },
  "language_info": {
   "codemirror_mode": {
    "name": "ipython",
    "version": 3
   },
   "file_extension": ".py",
   "mimetype": "text/x-python",
   "name": "python",
   "nbconvert_exporter": "python",
   "pygments_lexer": "ipython3",
   "version": "3.6.3"
  }
 },
 "nbformat": 4,
 "nbformat_minor": 2
}
