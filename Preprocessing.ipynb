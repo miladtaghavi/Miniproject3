{
 "cells": [
  {
   "cell_type": "code",
   "execution_count": 1,
   "metadata": {
    "collapsed": true
   },
   "outputs": [],
   "source": [
    "import re"
   ]
  },
  {
   "cell_type": "code",
   "execution_count": 44,
   "metadata": {
    "collapsed": true
   },
   "outputs": [],
   "source": [
    "def read_shakespear(path):\n",
    "    header = re.compile( \"[0-9]+\" )\n",
    "    with open(path) as f:\n",
    "        sonnets = []\n",
    "        curSonnet = []\n",
    "        eof = False\n",
    "        while not eof:\n",
    "            line = f.readline()\n",
    "            if line is '':\n",
    "                eof = True\n",
    "            line = line.strip()\n",
    "            if line is '' or header.match(line):\n",
    "                if curSonnet:\n",
    "                    sonnets.append(curSonnet)\n",
    "                    curSonnet = []\n",
    "            else:\n",
    "                curSonnet.append(line)\n",
    "    return sonnets"
   ]
  },
  {
   "cell_type": "code",
   "execution_count": 47,
   "metadata": {
    "collapsed": true
   },
   "outputs": [],
   "source": [
    "def create_seq(sonnets):\n",
    "    # Input: Expects lists of list as input. \n",
    "    #        Each list is a sonnet.\n",
    "    # Output: A list of sequences\n",
    "    # Current implementation defines a line as a sequence\n",
    "    seq = [line for sonnet in sonnets for line in sonnet]\n",
    "    return seq"
   ]
  },
  {
   "cell_type": "code",
   "execution_count": 65,
   "metadata": {
    "collapsed": true
   },
   "outputs": [],
   "source": [
    "def tokenize(seqs):\n",
    "    # Input: A list of sequences\n",
    "    # Ouput: A list of list with each item a token \n",
    "    tokenized_seqs = []\n",
    "    for seq in seqs:\n",
    "        # make lower case\n",
    "        # just keep alphabets'- and whitespace\n",
    "        # split by whitespace\n",
    "        seq = seq.lower()\n",
    "        seq = re.sub('[^a-z\\' ]', '', seq)\n",
    "        tokenized_seqs.append(seq.split())\n",
    "    return tokenized_seqs"
   ]
  },
  {
   "cell_type": "code",
   "execution_count": 76,
   "metadata": {},
   "outputs": [],
   "source": [
    "sonnets = read_shakespear(\"./Release/data/shakespeare.txt\")\n",
    "sequences = create_seq(sonnets)\n",
    "tokens = tokenize(sequences)"
   ]
  },
  {
   "cell_type": "code",
   "execution_count": 77,
   "metadata": {},
   "outputs": [
    {
     "data": {
      "text/plain": [
       "['from', 'fairest', 'creatures', 'we', 'desire', 'increase']"
      ]
     },
     "execution_count": 77,
     "metadata": {},
     "output_type": "execute_result"
    }
   ],
   "source": [
    "tokens[0]"
   ]
  }
 ],
 "metadata": {
  "kernelspec": {
   "display_name": "Python 3",
   "language": "python",
   "name": "python3"
  },
  "language_info": {
   "codemirror_mode": {
    "name": "ipython",
    "version": 3
   },
   "file_extension": ".py",
   "mimetype": "text/x-python",
   "name": "python",
   "nbconvert_exporter": "python",
   "pygments_lexer": "ipython3",
   "version": "3.6.3"
  }
 },
 "nbformat": 4,
 "nbformat_minor": 2
}
