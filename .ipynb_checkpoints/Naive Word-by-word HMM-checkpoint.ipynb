{
 "cells": [
  {
   "cell_type": "code",
   "execution_count": 1,
   "metadata": {},
   "outputs": [],
   "source": [
    "import HMM\n",
    "import itertools"
   ]
  },
  {
   "cell_type": "code",
   "execution_count": 4,
   "metadata": {
    "scrolled": false
   },
   "outputs": [],
   "source": [
    "with open(\"./data/shakespeare.txt\", \"r\") as f:\n",
    "    data = f.read()\n",
    "    \n",
    "# Split by poems\n",
    "poems = data.split(\"\\n\\n\\n\") \n",
    "# Split poem by line, remove 1st line\n",
    "poems = [poem.split(\"\\n\")[1:] for poem in poems] \n",
    "# Remove trailing/leading spaces for certain lines (last 2 lines)\n",
    "poems = [[line.strip() for line in poem] for poem in poems] \n",
    "# Split each line into a list of words\n",
    "poems = [[line.split(\" \") for line in poem] for poem in poems] \n",
    "# Strip punctuation : Optional\n",
    "poems_by_lines = [[[word.strip(\",.:;?!()\").lower() for word in line] for line in poem ] for poem in poems] \n",
    "# Combine all the lines in a single poem so that each pome is just a list of words\n",
    "poems_by_words = [list(itertools.chain.from_iterable(poem)) for poem in poems_by_lines] "
   ]
  },
  {
   "cell_type": "code",
   "execution_count": 5,
   "metadata": {},
   "outputs": [],
   "source": [
    "# Create the dictionary of words. We associate each word with a unique index\n",
    "# and the inverse dictionary associates the index with the word\n",
    "with open(\"./data/Syllable_dictionary.txt\", \"r\") as f:\n",
    "    data = f.readlines()\n",
    "    \n",
    "words = [word.strip() for word in data]\n",
    "words = [word.split(\" \")[0] for word in words]\n",
    "words_dict = dict(zip(words, range(len(words))))\n",
    "inverse_words_dict = dict(zip(range(len(words)), words))"
   ]
  },
  {
   "cell_type": "code",
   "execution_count": 6,
   "metadata": {},
   "outputs": [],
   "source": [
    "# Convert each word into an index by searching in the dictionary\n",
    "# We need the function because sometimes there are words that have ' at the start (as part of the word itself)\n",
    "# but sometimes it's just used as a normal quotation mark. So we need to split into 2 cases.\n",
    "def word_idx(word):\n",
    "    try:\n",
    "        return words_dict[word.lower()]\n",
    "    except KeyError:\n",
    "        return words_dict[word.lower().strip(\",.:;?!()'\")]\n",
    "\n",
    "poems_idx = [[word_idx(word) for word in poem] for poem in poems_by_words]"
   ]
  },
  {
   "cell_type": "code",
   "execution_count": 7,
   "metadata": {},
   "outputs": [
    {
     "name": "stdout",
     "output_type": "stream",
     "text": [
      "Iteration: 10\n",
      "Iteration: 20\n",
      "Iteration: 30\n",
      "Iteration: 40\n",
      "Iteration: 50\n"
     ]
    }
   ],
   "source": [
    "shake = HMM.unsupervised_HMM(poems_idx, 10, 50)"
   ]
  },
  {
   "cell_type": "code",
   "execution_count": 8,
   "metadata": {},
   "outputs": [
    {
     "name": "stdout",
     "output_type": "stream",
     "text": [
      "sufficed to which for dead thou there mortal their you loves thee for gentle is wail were but beauteous at heart my their just the name bring and sail with the will vanished so long holds love thee to twilight cold for foot of lifts bright curse true that thee all flowers thee then writ a envy so reasons thine your shadows as eye bore woo wear my which shall thoughts that on babe love there sweet at the for for oblivion general find the proud mistaking whence dost 'gainst be space fair i love's both then behold thou gold gentle mine of bootless must make catch physic dost is or with our charactered holds all not the watery the rose and for for clouds beauty's lest sings servant add my your mouthed without this beloved dost to breath if\n"
     ]
    }
   ],
   "source": [
    "emission_idx = shake.generate_emission(140)\n",
    "# print(emission_idx)\n",
    "emission_words = [inverse_words_dict[idx] for idx in emission_idx[0]]\n",
    "print(\" \".join(emission_words))"
   ]
  },
  {
   "cell_type": "code",
   "execution_count": 9,
   "metadata": {},
   "outputs": [
    {
     "name": "stdout",
     "output_type": "stream",
     "text": [
      "Number of word pairs (excluding last pair):  924\n",
      "Number of unique word pairs (excluding last pair):  921\n",
      "Number of rhyme pairs:  1077\n",
      "Number of rhyme pairs:  864\n"
     ]
    }
   ],
   "source": [
    "word_pairs = []\n",
    "rhyme_pairs = []\n",
    "for poem in poems_by_lines:\n",
    "    word_pairs.append((poem[0][-1], poem[1][-1]))\n",
    "    word_pairs.append((poem[2][-1], poem[3][-1]))\n",
    "    word_pairs.append((poem[4][-1], poem[5][-1]))\n",
    "    word_pairs.append((poem[6][-1], poem[7][-1]))\n",
    "    word_pairs.append((poem[8][-1], poem[9][-1]))\n",
    "    word_pairs.append((poem[10][-1], poem[11][-1]))\n",
    "    \n",
    "for poem in poems_by_lines:\n",
    "    rhyme_pairs.append((poem[0][-1], poem[2][-1]))\n",
    "    rhyme_pairs.append((poem[1][-1], poem[3][-1]))\n",
    "    rhyme_pairs.append((poem[4][-1], poem[6][-1]))\n",
    "    rhyme_pairs.append((poem[5][-1], poem[7][-1]))\n",
    "    rhyme_pairs.append((poem[8][-1], poem[10][-1]))\n",
    "    rhyme_pairs.append((poem[9][-1], poem[11][-1]))\n",
    "    try:\n",
    "        rhyme_pairs.append((poem[12][-1], poem[13][-1]))\n",
    "    except IndexError:\n",
    "        pass\n",
    "    \n",
    "print(\"Number of word pairs (excluding last pair): \", len(word_pairs)) \n",
    "print(\"Number of unique word pairs (excluding last pair): \", len(set(word_pairs)))\n",
    "print(\"Number of rhyme pairs: \", len(rhyme_pairs))\n",
    "print(\"Number of rhyme pairs: \", len(set(rhyme_pairs)))"
   ]
  }
 ],
 "metadata": {
  "kernelspec": {
   "display_name": "Python 3",
   "language": "python",
   "name": "python3"
  },
  "language_info": {
   "codemirror_mode": {
    "name": "ipython",
    "version": 3
   },
   "file_extension": ".py",
   "mimetype": "text/x-python",
   "name": "python",
   "nbconvert_exporter": "python",
   "pygments_lexer": "ipython3",
   "version": "3.6.3"
  }
 },
 "nbformat": 4,
 "nbformat_minor": 2
}
