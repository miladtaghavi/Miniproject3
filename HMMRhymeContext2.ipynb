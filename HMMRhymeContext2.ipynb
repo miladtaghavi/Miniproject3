{
 "cells": [
  {
   "cell_type": "markdown",
   "metadata": {},
   "source": [
    "# Imports"
   ]
  },
  {
   "cell_type": "code",
   "execution_count": 38,
   "metadata": {},
   "outputs": [],
   "source": [
    "import HMM\n",
    "import itertools\n",
    "import random\n",
    "import numpy as np\n",
    "import matplotlib.pyplot as plt\n",
    "from collections import defaultdict\n",
    "import HMM_helper"
   ]
  },
  {
   "cell_type": "markdown",
   "metadata": {},
   "source": [
    "# Data Imports"
   ]
  },
  {
   "cell_type": "code",
   "execution_count": 2,
   "metadata": {
    "scrolled": false
   },
   "outputs": [],
   "source": [
    "with open(\"./data/shakespeare.txt\", \"r\") as f:\n",
    "    data = f.read()\n",
    "    \n",
    "# Split by poems\n",
    "poems = data.split(\"\\n\\n\\n\")\n",
    "# Split poem by line, remove 1st line\n",
    "poems = [poem.split(\"\\n\")[1:] for poem in poems] \n",
    "# Remove the 2 anomalous poems\n",
    "del poems[98]\n",
    "del poems[124]\n",
    "\n",
    "# Remove trailing/leading spaces for certain lines (last 2 lines)\n",
    "poems = [[line.strip() for line in poem] for poem in poems] \n",
    "# Split each line into a list of words\n",
    "poems = [[line.split(\" \") for line in poem] for poem in poems] \n",
    "# Strip punctuation : Optional\n",
    "poems_by_lines = [[[word.strip(\",.:;?!()\").lower() for word in line] for line in poem ] for poem in poems] \n",
    "# Combine all the lines in a single poem so that each pome is just a list of words\n",
    "poems_by_words = [list(itertools.chain.from_iterable(poem)) for poem in poems_by_lines] "
   ]
  },
  {
   "cell_type": "markdown",
   "metadata": {},
   "source": [
    "# Basic Processing and Data Extraction"
   ]
  },
  {
   "cell_type": "code",
   "execution_count": 3,
   "metadata": {},
   "outputs": [],
   "source": [
    "# Create the dictionary of words. We associate each word with a unique index\n",
    "# and the inverse dictionary associates the index with the word\n",
    "\n",
    "with open(\"./data/Syllable_dictionary.txt\", \"r\") as f:\n",
    "    data = f.readlines()\n",
    "    \n",
    "lines = [word.strip() for word in data]\n",
    "\n",
    "words_list = []\n",
    "syllables_list = []\n",
    "end_syllables_list = []\n",
    "\n",
    "for line in lines:\n",
    "    word_syllables_list = []\n",
    "    word_end_syllables_list = []\n",
    "    \n",
    "    # Split into the word itself and everything else\n",
    "    word = line.split(\" \")[0]\n",
    "    syllables = line.split(\" \")[1:]\n",
    "    # Iterate over everything else\n",
    "    for syllable in syllables:\n",
    "        # Check that it does not represent an end syllable\n",
    "        if syllable[0] != \"E\":\n",
    "            # Add it to the list syllable count for the current word\n",
    "            word_syllables_list.append(int(syllable))\n",
    "        else:\n",
    "            # Slice off the \"E\" and directly append to the curent word's end_syllables_list\n",
    "            word_end_syllables_list.append(int(syllable[1:]))\n",
    "            \n",
    "    words_list.append(word)\n",
    "    syllables_list.append(tuple(word_syllables_list))\n",
    "    end_syllables_list.append(tuple(word_end_syllables_list))\n",
    "    \n",
    "words_dict = dict(zip(words_list, range(len(words_list))))\n",
    "inverse_words_dict = dict(zip(range(len(words_list)), words_list))\n",
    "syllables_dict = dict(zip(words_list, syllables_list))\n",
    "end_syllables_dict = dict(zip(words_list, end_syllables_list))\n",
    "\n",
    "# Convert each word into an index by searching in the dictionary\n",
    "# We need the function because sometimes there are words that have ' at the start (as part of the word itself)\n",
    "# but sometimes it's just used as a normal quotation mark. So we need to split into 2 cases.\n",
    "def word_idx(word):\n",
    "    try:\n",
    "        return words_dict[word.lower()]\n",
    "    except KeyError:\n",
    "        return words_dict[word.lower().strip(\",.:;?!()'\")]"
   ]
  },
  {
   "cell_type": "code",
   "execution_count": 4,
   "metadata": {},
   "outputs": [],
   "source": [
    "# Acquire the possible chains of last words as well as rhyming pairs\n",
    "\n",
    "last_words = set()\n",
    "last_word_chains = []\n",
    "rhyme_pairs = defaultdict(set)\n",
    "\n",
    "for poem in poems_by_lines:\n",
    "    # String the last words of the key lines into a list\n",
    "    last_word_chains.append([poem[i][-1] for i in (0, 1, 4, 5, 8, 9, 12)])\n",
    "    \n",
    "    # Register the appropriate pairs of words as rhyming\n",
    "    for i in (0, 1, 4, 5, 8, 9):\n",
    "        rhyme_pairs[poem[i][-1]].add(poem[i+2][-1])\n",
    "        rhyme_pairs[poem[i+2][-1]].add(poem[i][-1])\n",
    "    # Register the last 2 lines' last words\n",
    "    rhyme_pairs[poem[12][-1]].add(poem[13][-1])\n",
    "    rhyme_pairs[poem[13][-1]].add(poem[12][-1])\n",
    "    \n",
    "    # Simply collect all the possible last words \n",
    "    for idx, line in enumerate(poem):\n",
    "        last_words.add(line[-1])\n",
    "        \n",
    "# Convert the list of list of words for each poem's key lines' last words into indices for learning\n",
    "last_word_chains_idx = [[word_idx(word) for word in line] for line in last_word_chains]\n",
    "\n",
    "# TODO: Merge the possible rhymes together"
   ]
  },
  {
   "cell_type": "code",
   "execution_count": 5,
   "metadata": {},
   "outputs": [],
   "source": [
    "# Combines all poems together, yielding a list of all lines. We then reverse them and convert to indices.\n",
    "all_lines = list(itertools.chain.from_iterable(poems_by_lines)) \n",
    "all_lines_reversed = [line[::-1] for line in all_lines]\n",
    "all_lines_reversed_idx = [[word_idx(word) for word in line] for line in all_lines_reversed]"
   ]
  },
  {
   "cell_type": "markdown",
   "metadata": {},
   "source": [
    "# HMM Training"
   ]
  },
  {
   "cell_type": "code",
   "execution_count": 6,
   "metadata": {
    "scrolled": true
   },
   "outputs": [
    {
     "name": "stdout",
     "output_type": "stream",
     "text": [
      "Iteration: 10\n",
      "Iteration: 20\n",
      "Iteration: 30\n",
      "Iteration: 40\n",
      "Iteration: 50\n",
      "Iteration: 60\n",
      "Iteration: 70\n",
      "Iteration: 80\n",
      "Iteration: 90\n",
      "Iteration: 100\n",
      "Iteration: 110\n",
      "Iteration: 120\n",
      "Iteration: 130\n",
      "Iteration: 140\n",
      "Iteration: 150\n",
      "Iteration: 160\n",
      "Iteration: 170\n",
      "Iteration: 180\n",
      "Iteration: 190\n",
      "Iteration: 200\n",
      "Iteration: 210\n",
      "Iteration: 220\n",
      "Iteration: 230\n",
      "Iteration: 240\n",
      "Iteration: 250\n",
      "Iteration: 260\n",
      "Iteration: 270\n",
      "Iteration: 280\n",
      "Iteration: 290\n",
      "Iteration: 300\n",
      "Iteration: 310\n",
      "Iteration: 320\n",
      "Iteration: 330\n",
      "Iteration: 340\n",
      "Iteration: 350\n",
      "Iteration: 360\n",
      "Iteration: 370\n",
      "Iteration: 380\n",
      "Iteration: 390\n",
      "Iteration: 400\n",
      "Iteration: 410\n",
      "Iteration: 420\n",
      "Iteration: 430\n",
      "Iteration: 440\n",
      "Iteration: 450\n",
      "Iteration: 460\n",
      "Iteration: 470\n",
      "Iteration: 480\n",
      "Iteration: 490\n",
      "Iteration: 500\n"
     ]
    }
   ],
   "source": [
    "# Learn a HMM to generate the last words of each key line in a poem\n",
    "# TODO: vary number of states, iters.\n",
    "last_word_chain_HMM = HMM.unsupervised_HMM(last_word_chains_idx, n_states=9, n_words=len(words_list), N_iters=500)"
   ]
  },
  {
   "cell_type": "code",
   "execution_count": 7,
   "metadata": {},
   "outputs": [
    {
     "name": "stdout",
     "output_type": "stream",
     "text": [
      "Iteration: 10\n",
      "Iteration: 20\n",
      "Iteration: 30\n",
      "Iteration: 40\n",
      "Iteration: 50\n",
      "Iteration: 60\n",
      "Iteration: 70\n",
      "Iteration: 80\n",
      "Iteration: 90\n",
      "Iteration: 100\n",
      "Iteration: 110\n",
      "Iteration: 120\n",
      "Iteration: 130\n",
      "Iteration: 140\n",
      "Iteration: 150\n",
      "Iteration: 160\n",
      "Iteration: 170\n",
      "Iteration: 180\n",
      "Iteration: 190\n",
      "Iteration: 200\n"
     ]
    }
   ],
   "source": [
    "# Train a HMM to construct lines backwards\n",
    "reversed_line_HMM = HMM.unsupervised_HMM(all_lines_reversed_idx, n_states=9, n_words=len(words_list), N_iters=200)"
   ]
  },
  {
   "cell_type": "markdown",
   "metadata": {},
   "source": [
    "# Poem Generation"
   ]
  },
  {
   "cell_type": "code",
   "execution_count": 8,
   "metadata": {
    "scrolled": true
   },
   "outputs": [
    {
     "name": "stdout",
     "output_type": "stream",
     "text": [
      "show art fee true pen rare beck\n",
      "owe part me you amen compare check\n",
      "---\n",
      "show\n",
      "art\n",
      "owe\n",
      "part\n",
      "fee\n",
      "true\n",
      "me\n",
      "you\n",
      "pen\n",
      "rare\n",
      "amen\n",
      "compare\n",
      "beck\n",
      "check\n"
     ]
    }
   ],
   "source": [
    "# Generate the seeds using the last words HMM and then get the coupling rhymes. These will act as seeds for the \n",
    "# second HMM which generates the line backwards\n",
    "\n",
    "# Emit 7 words from this HMM that learned the last word chains\n",
    "# Take the 0th component because the 1st component shows the hidden state\n",
    "last_words_emission_idx = last_word_chain_HMM.generate_emission(7)[0]\n",
    "last_words_emission = [inverse_words_dict[idx] for idx in last_words_emission_idx]\n",
    "print(\" \".join(last_words_emission))\n",
    "\n",
    "# Use the rhyme dictionary to get the corresponding rhyme words\n",
    "rhymed_words_emission = [random.choice(list(rhyme_pairs[word])) for word in last_words_emission]\n",
    "rhymed_words_emission_idx = [words_dict[word] for word in rhymed_words_emission]\n",
    "print(\" \".join(rhymed_words_emission))\n",
    "\n",
    "\n",
    "# Join all them together in the appropriate alternating fashion\n",
    "last_words_seeds_idx = []\n",
    "for i in range(3):\n",
    "    last_words_seeds_idx.extend([last_words_emission_idx[2*i], last_words_emission_idx[2*i+1]])\n",
    "    last_words_seeds_idx.extend([rhymed_words_emission_idx[2*i], rhymed_words_emission_idx[2*i+1]])\n",
    "last_words_seeds_idx.extend([last_words_emission_idx[6], rhymed_words_emission_idx[6]])\n",
    "last_words_seeds = [inverse_words_dict[idx] for idx in last_words_seeds_idx]\n",
    "print(\"---\")\n",
    "print(\"\\n\".join(last_words_seeds))"
   ]
  },
  {
   "cell_type": "code",
   "execution_count": 9,
   "metadata": {},
   "outputs": [
    {
     "name": "stdout",
     "output_type": "stream",
     "text": [
      "Fairest of banquet art his are to show,\n",
      "Than all gentle an bitterness that art,\n",
      "Thee durst been star sweet invention doth owe,\n",
      "Remote control unions to this deep part,\n",
      "O is have or what proud nor make stay fee,\n",
      "Not thou right me sure if fester to true,\n",
      "Ever when love after I goddess me,\n",
      "Or now maid dost on my leap although you,\n",
      "What rose honour my to not for self pen,\n",
      "Liberty celestial constancy rare,\n",
      "Of thief robbing knit pen thy bath amen,\n",
      "Which my they for to gate nor thou compare,\n",
      "To I sort best their writ for be thou beck,\n",
      "Bear on do spite trust that subject sense check.\n"
     ]
    }
   ],
   "source": [
    "# Actually make a sonnet now. Take the 14 seeds from before, construct the lines backwards, and check for syllable count.\n",
    "# If it cannot fit the right syllable count, we regenerate the line.\n",
    "\n",
    "sonnet = []\n",
    "# Iterate over each of the 14 seeds for each line\n",
    "for seed_idx in last_words_seeds_idx:\n",
    "    exactly_10_syllables = False\n",
    "    \n",
    "    while not exactly_10_syllables:\n",
    "        # Generate the line using the seed\n",
    "        line = list(reversed_line_HMM.generate_emission(10, seed=seed_idx)[0])\n",
    "        # Reverse the line\n",
    "        line = line[::-1]\n",
    "        # Add the seed at the back of the line and convert back to words\n",
    "        line.append(seed_idx)\n",
    "        line = [inverse_words_dict[word] for word in line]\n",
    "        \n",
    "        # Start from the back of the line and start adding syllables. Initially we have an empty set because we will initialise\n",
    "        # it when we read the last word. Use sets to prevent duplicates.\n",
    "        syllable_count = set([])\n",
    "        # Count backward from the last word in the line until 0\n",
    "        for i in range(len(line)-1, -1, -1):\n",
    "            \n",
    "            # Only for the last word, we also add possible end-of-line syllable counts\n",
    "            # It is empty so we initialise it by adding elements \n",
    "            if i == len(line)-1:\n",
    "                # First initialise all the normal syllables\n",
    "                syllable_count = set(syllables_dict[line[i]])\n",
    "                # Then add all the end syllables\n",
    "                syllable_count.update(end_syllables_dict[line[i]])\n",
    "\n",
    "            # For words that are not the last, we need to iterate over the new possible readings + previous possible counts\n",
    "            else:\n",
    "                # Since each word can have >1 possible syllables, we need to iterate over all past counts and\n",
    "                # all possible syllable counts of the new word. Use sets to prevent duplicates.\n",
    "                syllable_count = {count+syl for count in syllable_count for syl in syllables_dict[line[i]]}\n",
    "                # If at any point we hit 10 we are done. We chop off the line starting from when we reached 10.\n",
    "                if 10 in syllable_count:\n",
    "                    line = line[i:]\n",
    "                    exactly_10_syllables = True\n",
    "                    break\n",
    "    # Once we are out of that while loop, we have exactly 10 syllables        \n",
    "    sonnet.append(line)\n",
    "\n",
    "# Print the sonnet itself\n",
    "for idx, line in enumerate(sonnet):\n",
    "    # Upper case \"I\" and \"O\" and \"I'll\"\n",
    "    line = [word[0].upper()+word[1:] if word in (\"i\", \"o\", \"i'll\") else word for word in line]\n",
    "    # Upper case the 1st word of each line\n",
    "    line[0] = line[0][0].upper() + line[0][1:]\n",
    "    \n",
    "    # Add comma to each line except the last\n",
    "    if idx == len(sonnet)-1:\n",
    "        line[-1] += \".\"\n",
    "    else:\n",
    "        line[-1] += \",\"\n",
    "    print(\" \".join(line))"
   ]
  },
  {
   "cell_type": "markdown",
   "metadata": {},
   "source": [
    "# Preprocessing for parts of speech"
   ]
  },
  {
   "cell_type": "code",
   "execution_count": 10,
   "metadata": {},
   "outputs": [
    {
     "name": "stdout",
     "output_type": "stream",
     "text": [
      "[nltk_data] Downloading package punkt to /Users/zchen/nltk_data...\n",
      "[nltk_data]   Package punkt is already up-to-date!\n",
      "[nltk_data] Downloading package averaged_perceptron_tagger to\n",
      "[nltk_data]     /Users/zchen/nltk_data...\n",
      "[nltk_data]   Package averaged_perceptron_tagger is already up-to-\n",
      "[nltk_data]       date!\n"
     ]
    },
    {
     "data": {
      "text/plain": [
       "True"
      ]
     },
     "execution_count": 10,
     "metadata": {},
     "output_type": "execute_result"
    }
   ],
   "source": [
    "import nltk\n",
    "nltk.download('punkt')\n",
    "nltk.download('averaged_perceptron_tagger')"
   ]
  },
  {
   "cell_type": "code",
   "execution_count": 27,
   "metadata": {},
   "outputs": [],
   "source": [
    "# Function to convert reversed word lines to words in correct orientation\n",
    "def get_line(intwords,worddict):\n",
    "    out = [worddict[i] for i in intwords]\n",
    "    return out[::-1]\n",
    "\n",
    "# Get POS tag from word line in correct orientation\n",
    "def get_POS(line):\n",
    "    out = nltk.pos_tag(line)\n",
    "    return np.array([j for i,j in out]),np.array([i for i,j in out])\n",
    "\n",
    "# Get expected hidden state via viterbi given an emission sequence\n",
    "def getStates(model,x):\n",
    "    out = model.viterbi(x)\n",
    "    out = np.array([int(i) for i in out])\n",
    "    out = out[::-1]\n",
    "    prob = model.probability_alphas(x)\n",
    "    return out,prob"
   ]
  },
  {
   "cell_type": "code",
   "execution_count": 28,
   "metadata": {},
   "outputs": [],
   "source": [
    "Nstate = []\n",
    "NPOS = []\n",
    "words = []\n",
    "probs = []\n",
    "\n",
    "for line_ridx in all_lines_reversed_idx:\n",
    "    state,prob = getStates(reversed_line_HMM,line_ridx)\n",
    "    line = get_line(line_ridx,inverse_words_dict)\n",
    "    POS,word = get_POS(line)\n",
    "    # Record the state and POS tags\n",
    "    NPOS.append(POS)\n",
    "    Nstate.append(state)\n",
    "    words.append(word)\n",
    "    probs.append(prob)\n",
    "\n",
    "NPOS = np.concatenate(NPOS)\n",
    "Nstate = np.concatenate(Nstate)\n",
    "words = np.concatenate(words)\n",
    "probs = np.array(probs)"
   ]
  },
  {
   "cell_type": "code",
   "execution_count": 29,
   "metadata": {},
   "outputs": [],
   "source": [
    "uniquePOS = np.unique(NPOS)\n",
    "uniqueState = np.unique(Nstate)\n",
    "out = np.zeros((len(uniquePOS),len(uniqueState)))\n",
    "# Count frequency of POS for each hidden state\n",
    "for j in uniqueState:\n",
    "    POS = NPOS[Nstate==j]\n",
    "    k = 0\n",
    "    for i in uniquePOS:\n",
    "        out[k,j]=len(POS[POS==i])\n",
    "        k=k+1"
   ]
  },
  {
   "cell_type": "code",
   "execution_count": 30,
   "metadata": {},
   "outputs": [
    {
     "name": "stdout",
     "output_type": "stream",
     "text": [
      "[[  0.   0.   1.   1.   1.   0.   0.   0.   0.]\n",
      " [  0. 139. 146. 107. 308.  11.  51.  16.   0.]\n",
      " [  0.  13.   2.   5.   2.  15.  10.  17.   4.]\n",
      " [  0. 187. 143.  19.  89.  57. 530. 178.   2.]\n",
      " [  0.   1.   6.   1.   1.   0.   0.   7.   1.]\n",
      " [  0.   1.   0.   2.   0.   0.   0.   0.   0.]\n",
      " [  2.  41. 250. 796. 638.  17. 161.  67.   7.]\n",
      " [ 45. 314. 226. 149. 160. 201. 381. 231.  94.]\n",
      " [  1.  23.  12.   7.   2.  21.   8.   3.   2.]\n",
      " [  1.  10.  10.  16.  11.   7.   2.   4.  15.]\n",
      " [  0.  23.  16. 164.  23.  47.  12.  29.   1.]\n",
      " [337. 785. 453. 488. 220. 328. 220. 393. 650.]\n",
      " [  0.   1.   0.   0.   0.   0.   0.   0.   0.]\n",
      " [ 50. 198. 126.  88.  52.  86.  52.  86.  90.]\n",
      " [  0.   0.   6.   4.   4.   0.  17.   1.   0.]\n",
      " [  0.   0.   1.   4.   0.   0.   2.   0.   0.]\n",
      " [  0. 264.  41.  12.   9.  10. 103. 156.  17.]\n",
      " [  0. 103.  49.   3.   0.  20. 425. 117.   1.]\n",
      " [ 24. 177. 147. 135.  80.  86. 130. 161.  20.]\n",
      " [  0.  16.   7.   4.   1.  18.   4.   1.   2.]\n",
      " [  0.   3.   4.  10.   1.   1.   1.   0.   5.]\n",
      " [  2.   1.   6.   3.  13.   8.   2.   0.   2.]\n",
      " [  0.   0.  10. 258.  13.  51.  55.  17.   0.]\n",
      " [ 62.  70.  58. 153.  80.  91. 253. 176.  61.]\n",
      " [ 37.  29.  43. 102.  55.  40.  27.  30.  15.]\n",
      " [  7.  23.  31.  51.  23.  12.  41.  30.   8.]\n",
      " [ 45.  64.  67.  12.  16.  35.  22.  48.  33.]\n",
      " [ 37.  41. 110. 203.  63.  73.  29.  39.  27.]\n",
      " [ 10.  32.  50. 168.  39.  57.  27.  14.   3.]\n",
      " [  0.  52.   6.  39.  61.   0.   6.   7.   0.]\n",
      " [  0.  22.  43.   2.  21.   0.  19.   0.   3.]\n",
      " [  0.   0.   0.   2.  13.   0.   0.   4.   0.]\n",
      " [  0.  54.   8.  18. 115.   3.  10.   3.   3.]]\n",
      "IN\n"
     ]
    },
    {
     "data": {
      "image/png": "[encoded data removed]",
      "text/plain": [
       "<matplotlib.figure.Figure at 0x1115bf128>"
      ]
     },
     "metadata": {},
     "output_type": "display_data"
    }
   ],
   "source": [
    "print(out)\n",
    "print(uniquePOS[6])\n",
    "plt.imshow(out)\n",
    "plt.xlabel('Hidden States')\n",
    "plt.ylabel(uniquePOS)\n",
    "plt.show()"
   ]
  },
  {
   "cell_type": "code",
   "execution_count": 35,
   "metadata": {},
   "outputs": [
    {
     "name": "stdout",
     "output_type": "stream",
     "text": [
      "[[  0. 152. 148. 112. 310.  26.  61.  33.   4.]\n",
      " [  2.  41. 250. 796. 638.  17. 161.  67.   7.]\n",
      " [ 47. 347. 248. 172. 173. 229. 391. 238. 111.]\n",
      " [387. 984. 579. 576. 272. 414. 272. 479. 740.]\n",
      " [  0. 367.  97.  23.  13.  30. 547. 274.  18.]\n",
      " [ 26. 197. 164. 152.  95. 113. 137. 162.  29.]\n",
      " [  0.   0.  10. 258.  13.  51.  55.  17.   0.]\n",
      " [198. 259. 359. 689. 276. 308. 399. 337. 147.]\n",
      " [  0. 316. 206.  81. 300.  60. 565. 199.   9.]\n",
      " [  0.  24.  16. 166.  23.  47.  12.  29.   1.]\n",
      " [  0.   0.   0.   0.   0.   0.   0.   0.   0.]]\n",
      "[['CC', 'CD'], ['IN'], ['JJ', 'JJR', 'JJS'], ['NN', 'NNPS', 'NNS'], ['PDT', 'POS', 'PRP', 'PRP$'], ['RB', 'RBR', 'RBS', 'RP'], ['TO'], ['VB', 'VBD', 'VBG', 'VBN', 'VBP', 'VBZ'], ['WDT', 'WP', 'WP$', 'WRB', 'DT', 'EX'], ['FW', 'MD']]\n"
     ]
    },
    {
     "data": {
      "image/png": "[encoded data removed]",
      "text/plain": [
       "<matplotlib.figure.Figure at 0x114525c88>"
      ]
     },
     "metadata": {},
     "output_type": "display_data"
    }
   ],
   "source": [
    "valid9POS = [['CC','CD'],\n",
    "         ['IN'],\n",
    "         ['JJ','JJR','JJS'],\n",
    "         ['NN','NNPS','NNS'],\n",
    "         ['PDT','POS','PRP','PRP$'],\n",
    "         ['RB','RBR','RBS','RP'],\n",
    "         ['TO'],\n",
    "         ['VB','VBD','VBG','VBN','VBP','VBZ'],\n",
    "         ['WDT','WP','WP$','WRB','DT','EX'],\n",
    "         ['FW','MD']]\n",
    "\n",
    "def get9POS(out,valid9POS,uniquePOS,uniqueStates):\n",
    "    out9POS = np.zeros((11,len(uniqueStates)))\n",
    "    for i in range(len(valid9POS)):\n",
    "        POSn=valid9POS[i]\n",
    "        a = np.zeros(9)\n",
    "        for j in POSn:\n",
    "            idx = np.argmax(uniquePOS==j)\n",
    "            a=a+out[idx]\n",
    "        out9POS[i]=a\n",
    "    return out9POS\n",
    "out2 = get9POS(out,valid9POS,uniquePOS,uniqueState)\n",
    "print(out2)\n",
    "print(valid9POS)\n",
    "plt.imshow(out2)\n",
    "plt.xlabel('Hidden States')\n",
    "plt.ylabel('Parts of Speech')\n",
    "plt.show()"
   ]
  },
  {
   "cell_type": "code",
   "execution_count": 36,
   "metadata": {},
   "outputs": [
    {
     "data": {
      "image/png": "[encoded data removed]",
      "text/plain": [
       "<matplotlib.figure.Figure at 0x11328def0>"
      ]
     },
     "metadata": {},
     "output_type": "display_data"
    }
   ],
   "source": [
    "out3 = out2\n",
    "for i in range(out.shape[1]):\n",
    "    out3[:,i] = out2[:,i]/np.sum(out2[:,i])\n",
    "plt.imshow(out3)\n",
    "plt.xlabel('Hidden States')\n",
    "plt.ylabel('Parts of Speech')\n",
    "plt.show()"
   ]
  },
  {
   "cell_type": "code",
   "execution_count": 33,
   "metadata": {},
   "outputs": [
    {
     "data": {
      "image/png": "[encoded data removed]",
      "text/plain": [
       "<matplotlib.figure.Figure at 0x1115a6f98>"
      ]
     },
     "metadata": {},
     "output_type": "display_data"
    }
   ],
   "source": [
    "plt.imshow(reversed_line_HMM.A)\n",
    "plt.xlabel('Hidden States out')\n",
    "plt.ylabel('Hidden States in')\n",
    "plt.show()"
   ]
  },
  {
   "cell_type": "code",
   "execution_count": 42,
   "metadata": {},
   "outputs": [
    {
     "ename": "NameError",
     "evalue": "name 'obs_map_reverser' is not defined",
     "output_type": "error",
     "traceback": [
      "\u001b[0;31m---------------------------------------------------------------------------\u001b[0m",
      "\u001b[0;31mNameError\u001b[0m                                 Traceback (most recent call last)",
      "\u001b[0;32m<ipython-input-42-9f57df8a948a>\u001b[0m in \u001b[0;36m<module>\u001b[0;34m()\u001b[0m\n\u001b[1;32m     63\u001b[0m     \u001b[0;32mreturn\u001b[0m \u001b[0mwordclouds\u001b[0m\u001b[0;34m\u001b[0m\u001b[0m\n\u001b[1;32m     64\u001b[0m \u001b[0;34m\u001b[0m\u001b[0m\n\u001b[0;32m---> 65\u001b[0;31m \u001b[0mwordclouds\u001b[0m \u001b[0;34m=\u001b[0m \u001b[0mstates_to_wordclouds\u001b[0m\u001b[0;34m(\u001b[0m\u001b[0mreversed_line_HMM\u001b[0m\u001b[0;34m,\u001b[0m \u001b[0mwords_dict\u001b[0m\u001b[0;34m)\u001b[0m\u001b[0;34m\u001b[0m\u001b[0m\n\u001b[0m",
      "\u001b[0;32m<ipython-input-42-9f57df8a948a>\u001b[0m in \u001b[0;36mstates_to_wordclouds\u001b[0;34m(hmm, obs_map, max_words, show)\u001b[0m\n\u001b[1;32m     40\u001b[0m     \u001b[0mM\u001b[0m \u001b[0;34m=\u001b[0m \u001b[0;36m100000\u001b[0m\u001b[0;34m\u001b[0m\u001b[0m\n\u001b[1;32m     41\u001b[0m     \u001b[0mn_states\u001b[0m \u001b[0;34m=\u001b[0m \u001b[0mlen\u001b[0m\u001b[0;34m(\u001b[0m\u001b[0mhmm\u001b[0m\u001b[0;34m.\u001b[0m\u001b[0mA\u001b[0m\u001b[0;34m)\u001b[0m\u001b[0;34m\u001b[0m\u001b[0m\n\u001b[0;32m---> 42\u001b[0;31m     \u001b[0mobs_map_r\u001b[0m \u001b[0;34m=\u001b[0m \u001b[0mobs_map_reverser\u001b[0m\u001b[0;34m(\u001b[0m\u001b[0mobs_map\u001b[0m\u001b[0;34m)\u001b[0m\u001b[0;34m\u001b[0m\u001b[0m\n\u001b[0m\u001b[1;32m     43\u001b[0m     \u001b[0mwordclouds\u001b[0m \u001b[0;34m=\u001b[0m \u001b[0;34m[\u001b[0m\u001b[0;34m]\u001b[0m\u001b[0;34m\u001b[0m\u001b[0m\n\u001b[1;32m     44\u001b[0m \u001b[0;34m\u001b[0m\u001b[0m\n",
      "\u001b[0;31mNameError\u001b[0m: name 'obs_map_reverser' is not defined"
     ]
    }
   ],
   "source": [
    "import wordcloud\n",
    "from wordcloud import WordCloud\n",
    "\n",
    "\n",
    "def mask():\n",
    "    # Parameters.\n",
    "    r = 128\n",
    "    d = 2 * r + 1\n",
    "\n",
    "    # Get points in a circle.\n",
    "    y, x = np.ogrid[-r:d-r, -r:d-r]\n",
    "    circle = (x**2 + y**2 <= r**2)\n",
    "\n",
    "    # Create mask.\n",
    "    mask = 255 * np.ones((d, d), dtype=np.uint8)\n",
    "    mask[circle] = 0\n",
    "\n",
    "    return mask\n",
    "\n",
    "def text_to_wordcloud(text, max_words=10, title='', show=True):\n",
    "    plt.close('all')\n",
    "\n",
    "    # Generate a wordcloud image.\n",
    "    wordcloud = WordCloud(random_state=0,\n",
    "                          max_words=max_words,\n",
    "                          background_color='white',\n",
    "                          mask=mask()).generate(text)\n",
    "\n",
    "    # Show the image.\n",
    "    if show:\n",
    "        plt.imshow(wordcloud, interpolation='bilinear')\n",
    "        plt.axis('off')\n",
    "        plt.title(title, fontsize=24)\n",
    "        plt.show()\n",
    "\n",
    "    return wordcloud\n",
    "\n",
    "def states_to_wordclouds(hmm, obs_map, max_words=10, show=True):\n",
    "    # Initialize.\n",
    "    M = 100000\n",
    "    n_states = len(hmm.A)\n",
    "    obs_map_r = obs_map_reverser(obs_map)\n",
    "    wordclouds = []\n",
    "\n",
    "    # Generate a large emission.\n",
    "    emission, states = hmm.generate_emission(M)\n",
    "\n",
    "    # For each state, get a list of observations that have been emitted\n",
    "    # from that state.\n",
    "    obs_count = []\n",
    "    for i in range(n_states):\n",
    "        obs_lst = np.array(emission)[np.where(np.array(states) == i)[0]]\n",
    "        obs_count.append(obs_lst)\n",
    "\n",
    "    # For each state, convert it into a wordcloud.\n",
    "    for i in range(n_states):\n",
    "        obs_lst = obs_count[i]\n",
    "        sentence = [obs_map_r[j] for j in obs_lst]\n",
    "        sentence_str = ' '.join(sentence)\n",
    "\n",
    "        wordclouds.append(text_to_wordcloud(sentence_str, max_words=max_words, title='State %d' % i, show=show))\n",
    "\n",
    "    return wordclouds\n",
    "\n",
    "wordclouds = states_to_wordclouds(reversed_line_HMM, words_dict)"
   ]
  },
  {
   "cell_type": "code",
   "execution_count": null,
   "metadata": {},
   "outputs": [],
   "source": []
  },
  {
   "cell_type": "code",
   "execution_count": null,
   "metadata": {},
   "outputs": [],
   "source": []
  }
 ],
 "metadata": {
  "kernelspec": {
   "display_name": "Python 3",
   "language": "python",
   "name": "python3"
  },
  "language_info": {
   "codemirror_mode": {
    "name": "ipython",
    "version": 3
   },
   "file_extension": ".py",
   "mimetype": "text/x-python",
   "name": "python",
   "nbconvert_exporter": "python",
   "pygments_lexer": "ipython3",
   "version": "3.6.3"
  }
 },
 "nbformat": 4,
 "nbformat_minor": 2
}
