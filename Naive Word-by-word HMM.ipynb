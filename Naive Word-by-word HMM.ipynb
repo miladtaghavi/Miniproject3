{
 "cells": [
  {
   "cell_type": "code",
   "execution_count": 1,
   "metadata": {},
   "outputs": [],
   "source": [
    "import HMM\n",
    "import itertools"
   ]
  },
  {
   "cell_type": "code",
   "execution_count": 2,
   "metadata": {
    "scrolled": false
   },
   "outputs": [],
   "source": [
    "with open(\"./data/shakespeare.txt\", \"r\") as f:\n",
    "    data = f.read()\n",
    "    \n",
    "# Split by poems\n",
    "poems = data.split(\"\\n\\n\\n\") \n",
    "# Split poem by line, remove 1st line\n",
    "poems = [poem.split(\"\\n\")[1:] for poem in poems] \n",
    "# Remove trailing/leading spaces for certain lines (last 2 lines)\n",
    "poems = [[line.strip() for line in poem] for poem in poems] \n",
    "# Split each line into a list of words\n",
    "poems = [[line.split(\" \") for line in poem] for poem in poems] \n",
    "# Strip punctuation : Optional\n",
    "poems_by_lines = [[[word.strip(\",.:;?!()\").lower() for word in line] for line in poem ] for poem in poems] \n",
    "# Combine all the lines in a single poem so that each pome is just a list of words\n",
    "poems_by_words = [list(itertools.chain.from_iterable(poem)) for poem in poems_by_lines] "
   ]
  },
  {
   "cell_type": "code",
   "execution_count": 3,
   "metadata": {},
   "outputs": [],
   "source": [
    "# Create the dictionary of words. We associate each word with a unique index\n",
    "# and the inverse dictionary associates the index with the word\n",
    "with open(\"./data/Syllable_dictionary.txt\", \"r\") as f:\n",
    "    data = f.readlines()\n",
    "    \n",
    "words = [word.strip() for word in data]\n",
    "words = [word.split(\" \")[0] for word in words]\n",
    "words_dict = dict(zip(words, range(len(words))))\n",
    "inverse_words_dict = dict(zip(range(len(words)), words))"
   ]
  },
  {
   "cell_type": "code",
   "execution_count": 4,
   "metadata": {},
   "outputs": [],
   "source": [
    "# Convert each word into an index by searching in the dictionary\n",
    "# We need the function because sometimes there are words that have ' at the start (as part of the word itself)\n",
    "# but sometimes it's just used as a normal quotation mark. So we need to split into 2 cases.\n",
    "def word_idx(word):\n",
    "    try:\n",
    "        return words_dict[word.lower()]\n",
    "    except KeyError:\n",
    "        return words_dict[word.lower().strip(\",.:;?!()'\")]\n",
    "\n",
    "poems_idx = [[word_idx(word) for word in poem] for poem in poems_by_words]"
   ]
  },
  {
   "cell_type": "code",
   "execution_count": 5,
   "metadata": {},
   "outputs": [],
   "source": [
    "# Create the dictionary of words. We associate each word with a unique index\n",
    "# and the inverse dictionary associates the index with the word\n",
    "\n",
    "with open(\"./data/Syllable_dictionary.txt\", \"r\") as f:\n",
    "    data = f.readlines()\n",
    "    \n",
    "lines = [word.strip() for word in data]\n",
    "\n",
    "words_list = []\n",
    "syllables_list = []\n",
    "end_syllables_list = []\n",
    "\n",
    "for line in lines:\n",
    "    word_syllables_list = []\n",
    "    word_end_syllables_list = []\n",
    "    \n",
    "    # Split into the word itself and everything else\n",
    "    word = line.split(\" \")[0]\n",
    "    syllables = line.split(\" \")[1:]\n",
    "    # Iterate over everything else\n",
    "    for syllable in syllables:\n",
    "        # Check that it does not represent an end syllable\n",
    "        if syllable[0] != \"E\":\n",
    "            # Add it to the list syllable count for the current word\n",
    "            word_syllables_list.append(int(syllable))\n",
    "        else:\n",
    "            # Slice off the \"E\" and directly append to the curent word's end_syllables_list\n",
    "            word_end_syllables_list.append(int(syllable[1:]))\n",
    "            \n",
    "    words_list.append(word)\n",
    "    syllables_list.append(tuple(word_syllables_list))\n",
    "    end_syllables_list.append(tuple(word_end_syllables_list))\n",
    "    \n",
    "words_dict = dict(zip(words_list, range(len(words_list))))\n",
    "inverse_words_dict = dict(zip(range(len(words_list)), words_list))\n",
    "syllables_dict = dict(zip(words_list, syllables_list))\n",
    "end_syllables_dict = dict(zip(words_list, end_syllables_list))\n",
    "\n",
    "# Convert each word into an index by searching in the dictionary\n",
    "# We need the function because sometimes there are words that have ' at the start (as part of the word itself)\n",
    "# but sometimes it's just used as a normal quotation mark. So we need to split into 2 cases.\n",
    "def word_idx(word):\n",
    "    try:\n",
    "        return words_dict[word.lower()]\n",
    "    except KeyError:\n",
    "        return words_dict[word.lower().strip(\",.:;?!()'\")]"
   ]
  },
  {
   "cell_type": "code",
   "execution_count": 56,
   "metadata": {},
   "outputs": [
    {
     "name": "stdout",
     "output_type": "stream",
     "text": [
      "Iteration: 10\n",
      "Iteration: 20\n",
      "Iteration: 30\n",
      "Iteration: 40\n",
      "Iteration: 50\n",
      "Iteration: 60\n",
      "Iteration: 70\n",
      "Iteration: 80\n",
      "Iteration: 90\n",
      "Iteration: 100\n",
      "Iteration: 110\n",
      "Iteration: 120\n",
      "Iteration: 130\n",
      "Iteration: 140\n",
      "Iteration: 150\n",
      "Iteration: 160\n",
      "Iteration: 170\n",
      "Iteration: 180\n",
      "Iteration: 190\n",
      "Iteration: 200\n"
     ]
    }
   ],
   "source": [
    "shake = HMM.unsupervised_HMM(poems_idx, n_states=10, n_words=len(words_list), N_iters=200)"
   ]
  },
  {
   "cell_type": "code",
   "execution_count": 65,
   "metadata": {},
   "outputs": [
    {
     "name": "stdout",
     "output_type": "stream",
     "text": [
      "on my grace this their hied her a when had i self thy do me under i frailties second hath sweet whether that for pleasure thou or as time read wish such blooms winter's altered case thence mine beauty's wind gracious evermore whit kind your speak yet make far my swerving i dost pent in song quicker whose widow of prisoner bare an pen beauties me instinct eyes seen yours from a comfort mine surety-like dwell bequest two willing hungry up that were all you from her he consum'st all something me better of thou or thy leaves which and much world should bars am thy scythe to i often most warning spend hands at lame am bear this great that red with of thy men shame in in even for name bars that's vanished but much not me can\n"
     ]
    }
   ],
   "source": [
    "emission_idx = shake.generate_emission(140)\n",
    "# print(emission_idx)\n",
    "emission_words = [inverse_words_dict[idx] for idx in emission_idx[0]]\n",
    "print(\" \".join(emission_words))"
   ]
  },
  {
   "cell_type": "code",
   "execution_count": 66,
   "metadata": {},
   "outputs": [
    {
     "name": "stdout",
     "output_type": "stream",
     "text": [
      "My grace this their hied her a when had I,\n",
      "Self thy do me under I frailties,\n",
      "Second hath sweet whether that for pleasure,\n",
      "Thou or as time read wish such blooms winter's,\n",
      "Altered case thence mine beauty's wind gracious,\n",
      "Evermore whit kind your speak yet make far,\n",
      "My swerving I dost pent in song quicker,\n",
      "Whose widow of prisoner bare an pen,\n",
      "Beauties me instinct eyes seen yours from a,\n",
      "Comfort mine surety-like dwell bequest two,\n",
      "Willing hungry up that were all you from,\n",
      "Her he consum'st all something me better,\n",
      "Of thou or thy leaves which and much world should,\n",
      "Bars am thy scythe to I often most.\n"
     ]
    }
   ],
   "source": [
    "# Split each line into syllables\n",
    "sonnet = []\n",
    "word_idx = 0\n",
    "\n",
    "for line_number in range(14):\n",
    "    prev_idx = word_idx\n",
    "    exactly_10_syllables = False\n",
    "    \n",
    "    # Create an empty line\n",
    "    line = []\n",
    "    syllable_count = set([0])\n",
    "    end_syllable_count = set([0])\n",
    "\n",
    "    while True:\n",
    "        word_idx += 1\n",
    "        prev_best = min([abs(x-10) for x in syllable_count])\n",
    "\n",
    "        # Add syllable counts for this current word \n",
    "        syllable_count_new = {count+syl for count in syllable_count for syl in syllables_dict[emission_words[word_idx]]}\n",
    "        # Add syllable counts for this current words's end-of-line syllables\n",
    "        syllable_count_end = {count+syl for count in syllable_count for syl in end_syllables_dict[emission_words[word_idx]]}\n",
    "        syllable_count_end = syllable_count_end.union(syllable_count_new)\n",
    "        # Update the syllable count set\n",
    "        syllable_count = syllable_count_new\n",
    "\n",
    "        if (10 in syllable_count) or (10 in end_syllable_count):\n",
    "#             print(syllable_count)\n",
    "#             print('yes')\n",
    "            break\n",
    "\n",
    "        curr_best = min([abs(x-10) for x in syllable_count.union(end_syllable_count)])                \n",
    "        if prev_best <= curr_best:\n",
    "            word_idx -= 1\n",
    "#             print(syllable_count)\n",
    "#             print('maybe')\n",
    "            break\n",
    "        else:\n",
    "            pass\n",
    "    # Once we are out of that while loop, we have exactly 10 syllables        \n",
    "    line = emission_words[prev_idx+1: word_idx+1]\n",
    "    sonnet.append(line)\n",
    "\n",
    "# print(sonnet)\n",
    "# Print the sonnet itself\n",
    "for idx, line in enumerate(sonnet):\n",
    "    # Upper case \"I\" and \"O\" and \"I'll\"\n",
    "    line = [word[0].upper()+word[1:] if word in (\"i\", \"o\", \"i'll\") else word for word in line]\n",
    "    # Upper case the 1st word of each line\n",
    "    line[0] = line[0][0].upper() + line[0][1:]\n",
    "    \n",
    "    # Add comma to each line except the last\n",
    "    if idx == len(sonnet)-1:\n",
    "        line[-1] += \".\"\n",
    "    else:\n",
    "        line[-1] += \",\"\n",
    "    print(\" \".join(line))"
   ]
  },
  {
   "cell_type": "code",
   "execution_count": 9,
   "metadata": {},
   "outputs": [
    {
     "name": "stdout",
     "output_type": "stream",
     "text": [
      "Number of word pairs (excluding last pair):  924\n",
      "Number of unique word pairs (excluding last pair):  921\n",
      "Number of rhyme pairs:  1077\n",
      "Number of rhyme pairs:  864\n"
     ]
    }
   ],
   "source": [
    "# word_pairs = []\n",
    "# rhyme_pairs = []\n",
    "# for poem in poems_by_lines:\n",
    "#     word_pairs.append((poem[0][-1], poem[1][-1]))\n",
    "#     word_pairs.append((poem[2][-1], poem[3][-1]))\n",
    "#     word_pairs.append((poem[4][-1], poem[5][-1]))\n",
    "#     word_pairs.append((poem[6][-1], poem[7][-1]))\n",
    "#     word_pairs.append((poem[8][-1], poem[9][-1]))\n",
    "#     word_pairs.append((poem[10][-1], poem[11][-1]))\n",
    "    \n",
    "# for poem in poems_by_lines:\n",
    "#     rhyme_pairs.append((poem[0][-1], poem[2][-1]))\n",
    "#     rhyme_pairs.append((poem[1][-1], poem[3][-1]))\n",
    "#     rhyme_pairs.append((poem[4][-1], poem[6][-1]))\n",
    "#     rhyme_pairs.append((poem[5][-1], poem[7][-1]))\n",
    "#     rhyme_pairs.append((poem[8][-1], poem[10][-1]))\n",
    "#     rhyme_pairs.append((poem[9][-1], poem[11][-1]))\n",
    "#     try:\n",
    "#         rhyme_pairs.append((poem[12][-1], poem[13][-1]))\n",
    "#     except IndexError:\n",
    "#         pass\n",
    "    \n",
    "# print(\"Number of word pairs (excluding last pair): \", len(word_pairs)) \n",
    "# print(\"Number of unique word pairs (excluding last pair): \", len(set(word_pairs)))\n",
    "# print(\"Number of rhyme pairs: \", len(rhyme_pairs))\n",
    "# print(\"Number of rhyme pairs: \", len(set(rhyme_pairs)))"
   ]
  }
 ],
 "metadata": {
  "kernelspec": {
   "display_name": "Python 3",
   "language": "python",
   "name": "python3"
  },
  "language_info": {
   "codemirror_mode": {
    "name": "ipython",
    "version": 3
   },
   "file_extension": ".py",
   "mimetype": "text/x-python",
   "name": "python",
   "nbconvert_exporter": "python",
   "pygments_lexer": "ipython3",
   "version": "3.6.2"
  }
 },
 "nbformat": 4,
 "nbformat_minor": 2
}
